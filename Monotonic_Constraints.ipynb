{
  "nbformat": 4,
  "nbformat_minor": 0,
  "metadata": {
    "colab": {
      "provenance": []
    },
    "kernelspec": {
      "name": "python3",
      "display_name": "Python 3"
    },
    "language_info": {
      "name": "python"
    }
  },
  "cells": [
    {
      "cell_type": "code",
      "source": [
        "import xgboost as xgb\n",
        "import pandas as pd\n",
        "import numpy as np\n",
        "import matplotlib.pyplot as plt\n",
        "\n",
        "# Create synthetic data\n",
        "np.random.seed(0)\n",
        "n_samples = 100\n",
        "\n",
        "# Features\n",
        "X1 = np.linspace(0, 10, n_samples)  # Increasing feature\n",
        "X2 = np.linspace(0, 10, n_samples)  # Decreasing feature\n",
        "\n",
        "# Response with sinusoidal variation\n",
        "y = 3 * np.sin(X1) + 2 * np.cos(X2) + np.random.normal(0, 0.1, n_samples)\n",
        "\n",
        "# Create DataFrame\n",
        "data = pd.DataFrame({'X1': X1, 'X2': X2, 'y': y})\n",
        "X = data[['X1', 'X2']]\n",
        "y = data['y']\n",
        "\n",
        "# Convert to DMatrix\n",
        "dtrain = xgb.DMatrix(X, label=y)\n",
        "\n",
        "# Define parameters without monotonic constraints\n",
        "params_no_constraints = {\n",
        "    'objective': 'reg:squarederror',\n",
        "    'booster': 'gbtree',\n",
        "    'eval_metric': 'rmse'\n",
        "}\n",
        "\n",
        "# Define parameters with monotonic constraints\n",
        "params_constrained = params_no_constraints.copy()\n",
        "params_constrained['monotone_constraints'] = (1, -1)\n",
        "\n",
        "# Train model without constraints\n",
        "model_no_constraints = xgb.train(params_no_constraints, dtrain, num_boost_round=1000)\n",
        "\n",
        "# Train model with constraints\n",
        "model_with_constraints = xgb.train(params_constrained, dtrain, num_boost_round=1000)\n",
        "\n",
        "# Function to plot feature effect\n",
        "def plot_feature_effect(model, feature_name, title):\n",
        "    # Create a grid of values for the feature\n",
        "    x_grid = np.linspace(X[feature_name].min(), X[feature_name].max(), 100)\n",
        "\n",
        "    # Create a DataFrame for prediction with an index\n",
        "    data_grid = pd.DataFrame({feature_name: x_grid, 'X2': X['X2'].mean()}, index=range(len(x_grid))) # Added index here\n",
        "\n",
        "    # Convert DataFrame to DMatrix for predictions\n",
        "    dgrid = xgb.DMatrix(data_grid)\n",
        "\n",
        "    # Predict using the model\n",
        "    y_preds = model.predict(dgrid)\n",
        "\n",
        "    # Plotting\n",
        "    plt.figure(figsize=(10, 5))\n",
        "    plt.plot(x_grid, y_preds, label='Model Prediction')\n",
        "    plt.xlabel(feature_name)\n",
        "    plt.ylabel('Prediction')\n",
        "    plt.title(title)\n",
        "    plt.legend()\n",
        "    plt.grid(True)\n",
        "    plt.show()\n",
        "\n",
        "# Plot feature effects\n",
        "plot_feature_effect(model_no_constraints, 'X1', 'No Constraint - Feature X1')\n",
        "plot_feature_effect(model_no_constraints, 'X2', 'No Constraint - Feature X2')\n",
        "plot_feature_effect(model_with_constraints, 'X1', 'With Constraint - Feature X1')\n",
        "plot_feature_effect(model_with_constraints, 'X2', 'With Constraint - Feature X2')\n"
      ],
      "metadata": {
        "id": "9XoPlldTxkoi"
      },
      "execution_count": null,
      "outputs": []
    },
    {
      "cell_type": "code",
      "source": [],
      "metadata": {
        "id": "L5q8Ybt1y0-X"
      },
      "execution_count": null,
      "outputs": []
    }
  ]
}