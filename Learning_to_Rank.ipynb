{
  "nbformat": 4,
  "nbformat_minor": 0,
  "metadata": {
    "colab": {
      "provenance": []
    },
    "kernelspec": {
      "name": "python3",
      "display_name": "Python 3"
    },
    "language_info": {
      "name": "python"
    }
  },
  "cells": [
    {
      "cell_type": "code",
      "execution_count": 1,
      "metadata": {
        "id": "Pgyqa0Ymfs4M"
      },
      "outputs": [],
      "source": [
        "from sklearn.datasets import make_classification\n",
        "import numpy as np\n"
      ]
    },
    {
      "cell_type": "code",
      "source": [
        "import xgboost as xgb"
      ],
      "metadata": {
        "id": "_lxDBS82ipbD"
      },
      "execution_count": 2,
      "outputs": []
    },
    {
      "cell_type": "code",
      "source": [
        "# make a synthetic ranking dataset for demonstraction\n",
        "seed=1994\n",
        "X,y=make_classification(random_state=seed)\n",
        "rng=np.random.default_rng(seed)\n",
        "n_query_groups=3\n",
        "qid=rng.integers(0,n_query_groups,size=X.shape[0])"
      ],
      "metadata": {
        "id": "Y778ZMtfis0a"
      },
      "execution_count": 3,
      "outputs": []
    },
    {
      "cell_type": "code",
      "source": [
        "# sort the inputs based on query index\n",
        "sorted_idx=np.argsort(qid)\n",
        "X=X[sorted_idx]\n",
        "y=y[sorted_idx]\n",
        "qid=qid[sorted_idx]"
      ],
      "metadata": {
        "id": "k2JoyAUUjVUV"
      },
      "execution_count": 4,
      "outputs": []
    },
    {
      "cell_type": "code",
      "source": [
        "ranker=xgb.XGBRanker(tree_method=\"hist\",lambdarank_num_pair_per_sample=8,objective=\"rank:ndcg\",lambdarank_pair_method=\"topk\")\n",
        "ranker.fit(X,y,qid=qid) # remove the extra indexing with sorted_idx"
      ],
      "metadata": {
        "colab": {
          "base_uri": "https://localhost:8080/",
          "height": 248
        },
        "id": "rdChZgoEjgID",
        "outputId": "4c6e3818-080c-496f-8cb0-f158bfd62813"
      },
      "execution_count": 6,
      "outputs": [
        {
          "output_type": "execute_result",
          "data": {
            "text/plain": [
              "XGBRanker(base_score=None, booster=None, callbacks=None, colsample_bylevel=None,\n",
              "          colsample_bynode=None, colsample_bytree=None, device=None,\n",
              "          early_stopping_rounds=None, enable_categorical=False,\n",
              "          eval_metric=None, feature_types=None, gamma=None, grow_policy=None,\n",
              "          importance_type=None, interaction_constraints=None,\n",
              "          lambdarank_num_pair_per_sample=8, lambdarank_pair_method='topk',\n",
              "          learning_rate=None, max_bin=None, max_cat_threshold=None,\n",
              "          max_cat_to_onehot=None, max_delta_step=None, max_depth=None,\n",
              "          max_leaves=None, min_child_weight=None, missing=nan,\n",
              "          monotone_constraints=None, multi_strategy=None, n_estimators=None,\n",
              "          n_jobs=None, ...)"
            ],
            "text/html": [
              "<style>#sk-container-id-1 {color: black;}#sk-container-id-1 pre{padding: 0;}#sk-container-id-1 div.sk-toggleable {background-color: white;}#sk-container-id-1 label.sk-toggleable__label {cursor: pointer;display: block;width: 100%;margin-bottom: 0;padding: 0.3em;box-sizing: border-box;text-align: center;}#sk-container-id-1 label.sk-toggleable__label-arrow:before {content: \"▸\";float: left;margin-right: 0.25em;color: #696969;}#sk-container-id-1 label.sk-toggleable__label-arrow:hover:before {color: black;}#sk-container-id-1 div.sk-estimator:hover label.sk-toggleable__label-arrow:before {color: black;}#sk-container-id-1 div.sk-toggleable__content {max-height: 0;max-width: 0;overflow: hidden;text-align: left;background-color: #f0f8ff;}#sk-container-id-1 div.sk-toggleable__content pre {margin: 0.2em;color: black;border-radius: 0.25em;background-color: #f0f8ff;}#sk-container-id-1 input.sk-toggleable__control:checked~div.sk-toggleable__content {max-height: 200px;max-width: 100%;overflow: auto;}#sk-container-id-1 input.sk-toggleable__control:checked~label.sk-toggleable__label-arrow:before {content: \"▾\";}#sk-container-id-1 div.sk-estimator input.sk-toggleable__control:checked~label.sk-toggleable__label {background-color: #d4ebff;}#sk-container-id-1 div.sk-label input.sk-toggleable__control:checked~label.sk-toggleable__label {background-color: #d4ebff;}#sk-container-id-1 input.sk-hidden--visually {border: 0;clip: rect(1px 1px 1px 1px);clip: rect(1px, 1px, 1px, 1px);height: 1px;margin: -1px;overflow: hidden;padding: 0;position: absolute;width: 1px;}#sk-container-id-1 div.sk-estimator {font-family: monospace;background-color: #f0f8ff;border: 1px dotted black;border-radius: 0.25em;box-sizing: border-box;margin-bottom: 0.5em;}#sk-container-id-1 div.sk-estimator:hover {background-color: #d4ebff;}#sk-container-id-1 div.sk-parallel-item::after {content: \"\";width: 100%;border-bottom: 1px solid gray;flex-grow: 1;}#sk-container-id-1 div.sk-label:hover label.sk-toggleable__label {background-color: #d4ebff;}#sk-container-id-1 div.sk-serial::before {content: \"\";position: absolute;border-left: 1px solid gray;box-sizing: border-box;top: 0;bottom: 0;left: 50%;z-index: 0;}#sk-container-id-1 div.sk-serial {display: flex;flex-direction: column;align-items: center;background-color: white;padding-right: 0.2em;padding-left: 0.2em;position: relative;}#sk-container-id-1 div.sk-item {position: relative;z-index: 1;}#sk-container-id-1 div.sk-parallel {display: flex;align-items: stretch;justify-content: center;background-color: white;position: relative;}#sk-container-id-1 div.sk-item::before, #sk-container-id-1 div.sk-parallel-item::before {content: \"\";position: absolute;border-left: 1px solid gray;box-sizing: border-box;top: 0;bottom: 0;left: 50%;z-index: -1;}#sk-container-id-1 div.sk-parallel-item {display: flex;flex-direction: column;z-index: 1;position: relative;background-color: white;}#sk-container-id-1 div.sk-parallel-item:first-child::after {align-self: flex-end;width: 50%;}#sk-container-id-1 div.sk-parallel-item:last-child::after {align-self: flex-start;width: 50%;}#sk-container-id-1 div.sk-parallel-item:only-child::after {width: 0;}#sk-container-id-1 div.sk-dashed-wrapped {border: 1px dashed gray;margin: 0 0.4em 0.5em 0.4em;box-sizing: border-box;padding-bottom: 0.4em;background-color: white;}#sk-container-id-1 div.sk-label label {font-family: monospace;font-weight: bold;display: inline-block;line-height: 1.2em;}#sk-container-id-1 div.sk-label-container {text-align: center;}#sk-container-id-1 div.sk-container {/* jupyter's `normalize.less` sets `[hidden] { display: none; }` but bootstrap.min.css set `[hidden] { display: none !important; }` so we also need the `!important` here to be able to override the default hidden behavior on the sphinx rendered scikit-learn.org. See: https://github.com/scikit-learn/scikit-learn/issues/21755 */display: inline-block !important;position: relative;}#sk-container-id-1 div.sk-text-repr-fallback {display: none;}</style><div id=\"sk-container-id-1\" class=\"sk-top-container\"><div class=\"sk-text-repr-fallback\"><pre>XGBRanker(base_score=None, booster=None, callbacks=None, colsample_bylevel=None,\n",
              "          colsample_bynode=None, colsample_bytree=None, device=None,\n",
              "          early_stopping_rounds=None, enable_categorical=False,\n",
              "          eval_metric=None, feature_types=None, gamma=None, grow_policy=None,\n",
              "          importance_type=None, interaction_constraints=None,\n",
              "          lambdarank_num_pair_per_sample=8, lambdarank_pair_method=&#x27;topk&#x27;,\n",
              "          learning_rate=None, max_bin=None, max_cat_threshold=None,\n",
              "          max_cat_to_onehot=None, max_delta_step=None, max_depth=None,\n",
              "          max_leaves=None, min_child_weight=None, missing=nan,\n",
              "          monotone_constraints=None, multi_strategy=None, n_estimators=None,\n",
              "          n_jobs=None, ...)</pre><b>In a Jupyter environment, please rerun this cell to show the HTML representation or trust the notebook. <br />On GitHub, the HTML representation is unable to render, please try loading this page with nbviewer.org.</b></div><div class=\"sk-container\" hidden><div class=\"sk-item\"><div class=\"sk-estimator sk-toggleable\"><input class=\"sk-toggleable__control sk-hidden--visually\" id=\"sk-estimator-id-1\" type=\"checkbox\" checked><label for=\"sk-estimator-id-1\" class=\"sk-toggleable__label sk-toggleable__label-arrow\">XGBRanker</label><div class=\"sk-toggleable__content\"><pre>XGBRanker(base_score=None, booster=None, callbacks=None, colsample_bylevel=None,\n",
              "          colsample_bynode=None, colsample_bytree=None, device=None,\n",
              "          early_stopping_rounds=None, enable_categorical=False,\n",
              "          eval_metric=None, feature_types=None, gamma=None, grow_policy=None,\n",
              "          importance_type=None, interaction_constraints=None,\n",
              "          lambdarank_num_pair_per_sample=8, lambdarank_pair_method=&#x27;topk&#x27;,\n",
              "          learning_rate=None, max_bin=None, max_cat_threshold=None,\n",
              "          max_cat_to_onehot=None, max_delta_step=None, max_depth=None,\n",
              "          max_leaves=None, min_child_weight=None, missing=nan,\n",
              "          monotone_constraints=None, multi_strategy=None, n_estimators=None,\n",
              "          n_jobs=None, ...)</pre></div></div></div></div></div>"
            ]
          },
          "metadata": {},
          "execution_count": 6
        }
      ]
    },
    {
      "cell_type": "code",
      "source": [
        "import pandas as pd\n"
      ],
      "metadata": {
        "id": "y0fqKo-jkK1w"
      },
      "execution_count": 7,
      "outputs": []
    },
    {
      "cell_type": "code",
      "source": [
        "# `X`, `qid`, and `y` are from the previous snippet, they are all sorted by the `sorted_idx`.\n",
        "df=pd.DataFrame(X,columns=[str(i) for i in range(X.shape[1])])\n",
        "df[\"qid\"]=qid"
      ],
      "metadata": {
        "id": "01bHUUv8khJX"
      },
      "execution_count": 8,
      "outputs": []
    },
    {
      "cell_type": "code",
      "source": [
        "ranker.fit(df,y)# no need to pass qid as a separate argument"
      ],
      "metadata": {
        "colab": {
          "base_uri": "https://localhost:8080/",
          "height": 248
        },
        "id": "oCaUbSH5k1_F",
        "outputId": "b8094148-fe64-4647-8212-f283b0e4a2e1"
      },
      "execution_count": 9,
      "outputs": [
        {
          "output_type": "execute_result",
          "data": {
            "text/plain": [
              "XGBRanker(base_score=None, booster=None, callbacks=None, colsample_bylevel=None,\n",
              "          colsample_bynode=None, colsample_bytree=None, device=None,\n",
              "          early_stopping_rounds=None, enable_categorical=False,\n",
              "          eval_metric=None, feature_types=None, gamma=None, grow_policy=None,\n",
              "          importance_type=None, interaction_constraints=None,\n",
              "          lambdarank_num_pair_per_sample=8, lambdarank_pair_method='topk',\n",
              "          learning_rate=None, max_bin=None, max_cat_threshold=None,\n",
              "          max_cat_to_onehot=None, max_delta_step=None, max_depth=None,\n",
              "          max_leaves=None, min_child_weight=None, missing=nan,\n",
              "          monotone_constraints=None, multi_strategy=None, n_estimators=None,\n",
              "          n_jobs=None, ...)"
            ],
            "text/html": [
              "<style>#sk-container-id-2 {color: black;}#sk-container-id-2 pre{padding: 0;}#sk-container-id-2 div.sk-toggleable {background-color: white;}#sk-container-id-2 label.sk-toggleable__label {cursor: pointer;display: block;width: 100%;margin-bottom: 0;padding: 0.3em;box-sizing: border-box;text-align: center;}#sk-container-id-2 label.sk-toggleable__label-arrow:before {content: \"▸\";float: left;margin-right: 0.25em;color: #696969;}#sk-container-id-2 label.sk-toggleable__label-arrow:hover:before {color: black;}#sk-container-id-2 div.sk-estimator:hover label.sk-toggleable__label-arrow:before {color: black;}#sk-container-id-2 div.sk-toggleable__content {max-height: 0;max-width: 0;overflow: hidden;text-align: left;background-color: #f0f8ff;}#sk-container-id-2 div.sk-toggleable__content pre {margin: 0.2em;color: black;border-radius: 0.25em;background-color: #f0f8ff;}#sk-container-id-2 input.sk-toggleable__control:checked~div.sk-toggleable__content {max-height: 200px;max-width: 100%;overflow: auto;}#sk-container-id-2 input.sk-toggleable__control:checked~label.sk-toggleable__label-arrow:before {content: \"▾\";}#sk-container-id-2 div.sk-estimator input.sk-toggleable__control:checked~label.sk-toggleable__label {background-color: #d4ebff;}#sk-container-id-2 div.sk-label input.sk-toggleable__control:checked~label.sk-toggleable__label {background-color: #d4ebff;}#sk-container-id-2 input.sk-hidden--visually {border: 0;clip: rect(1px 1px 1px 1px);clip: rect(1px, 1px, 1px, 1px);height: 1px;margin: -1px;overflow: hidden;padding: 0;position: absolute;width: 1px;}#sk-container-id-2 div.sk-estimator {font-family: monospace;background-color: #f0f8ff;border: 1px dotted black;border-radius: 0.25em;box-sizing: border-box;margin-bottom: 0.5em;}#sk-container-id-2 div.sk-estimator:hover {background-color: #d4ebff;}#sk-container-id-2 div.sk-parallel-item::after {content: \"\";width: 100%;border-bottom: 1px solid gray;flex-grow: 1;}#sk-container-id-2 div.sk-label:hover label.sk-toggleable__label {background-color: #d4ebff;}#sk-container-id-2 div.sk-serial::before {content: \"\";position: absolute;border-left: 1px solid gray;box-sizing: border-box;top: 0;bottom: 0;left: 50%;z-index: 0;}#sk-container-id-2 div.sk-serial {display: flex;flex-direction: column;align-items: center;background-color: white;padding-right: 0.2em;padding-left: 0.2em;position: relative;}#sk-container-id-2 div.sk-item {position: relative;z-index: 1;}#sk-container-id-2 div.sk-parallel {display: flex;align-items: stretch;justify-content: center;background-color: white;position: relative;}#sk-container-id-2 div.sk-item::before, #sk-container-id-2 div.sk-parallel-item::before {content: \"\";position: absolute;border-left: 1px solid gray;box-sizing: border-box;top: 0;bottom: 0;left: 50%;z-index: -1;}#sk-container-id-2 div.sk-parallel-item {display: flex;flex-direction: column;z-index: 1;position: relative;background-color: white;}#sk-container-id-2 div.sk-parallel-item:first-child::after {align-self: flex-end;width: 50%;}#sk-container-id-2 div.sk-parallel-item:last-child::after {align-self: flex-start;width: 50%;}#sk-container-id-2 div.sk-parallel-item:only-child::after {width: 0;}#sk-container-id-2 div.sk-dashed-wrapped {border: 1px dashed gray;margin: 0 0.4em 0.5em 0.4em;box-sizing: border-box;padding-bottom: 0.4em;background-color: white;}#sk-container-id-2 div.sk-label label {font-family: monospace;font-weight: bold;display: inline-block;line-height: 1.2em;}#sk-container-id-2 div.sk-label-container {text-align: center;}#sk-container-id-2 div.sk-container {/* jupyter's `normalize.less` sets `[hidden] { display: none; }` but bootstrap.min.css set `[hidden] { display: none !important; }` so we also need the `!important` here to be able to override the default hidden behavior on the sphinx rendered scikit-learn.org. See: https://github.com/scikit-learn/scikit-learn/issues/21755 */display: inline-block !important;position: relative;}#sk-container-id-2 div.sk-text-repr-fallback {display: none;}</style><div id=\"sk-container-id-2\" class=\"sk-top-container\"><div class=\"sk-text-repr-fallback\"><pre>XGBRanker(base_score=None, booster=None, callbacks=None, colsample_bylevel=None,\n",
              "          colsample_bynode=None, colsample_bytree=None, device=None,\n",
              "          early_stopping_rounds=None, enable_categorical=False,\n",
              "          eval_metric=None, feature_types=None, gamma=None, grow_policy=None,\n",
              "          importance_type=None, interaction_constraints=None,\n",
              "          lambdarank_num_pair_per_sample=8, lambdarank_pair_method=&#x27;topk&#x27;,\n",
              "          learning_rate=None, max_bin=None, max_cat_threshold=None,\n",
              "          max_cat_to_onehot=None, max_delta_step=None, max_depth=None,\n",
              "          max_leaves=None, min_child_weight=None, missing=nan,\n",
              "          monotone_constraints=None, multi_strategy=None, n_estimators=None,\n",
              "          n_jobs=None, ...)</pre><b>In a Jupyter environment, please rerun this cell to show the HTML representation or trust the notebook. <br />On GitHub, the HTML representation is unable to render, please try loading this page with nbviewer.org.</b></div><div class=\"sk-container\" hidden><div class=\"sk-item\"><div class=\"sk-estimator sk-toggleable\"><input class=\"sk-toggleable__control sk-hidden--visually\" id=\"sk-estimator-id-2\" type=\"checkbox\" checked><label for=\"sk-estimator-id-2\" class=\"sk-toggleable__label sk-toggleable__label-arrow\">XGBRanker</label><div class=\"sk-toggleable__content\"><pre>XGBRanker(base_score=None, booster=None, callbacks=None, colsample_bylevel=None,\n",
              "          colsample_bynode=None, colsample_bytree=None, device=None,\n",
              "          early_stopping_rounds=None, enable_categorical=False,\n",
              "          eval_metric=None, feature_types=None, gamma=None, grow_policy=None,\n",
              "          importance_type=None, interaction_constraints=None,\n",
              "          lambdarank_num_pair_per_sample=8, lambdarank_pair_method=&#x27;topk&#x27;,\n",
              "          learning_rate=None, max_bin=None, max_cat_threshold=None,\n",
              "          max_cat_to_onehot=None, max_delta_step=None, max_depth=None,\n",
              "          max_leaves=None, min_child_weight=None, missing=nan,\n",
              "          monotone_constraints=None, multi_strategy=None, n_estimators=None,\n",
              "          n_jobs=None, ...)</pre></div></div></div></div></div>"
            ]
          },
          "metadata": {},
          "execution_count": 9
        }
      ]
    },
    {
      "cell_type": "code",
      "source": [
        "from sklearn.model_selection import StratifiedGroupKFold,cross_val_score"
      ],
      "metadata": {
        "id": "YysAJ310lAao"
      },
      "execution_count": 10,
      "outputs": []
    },
    {
      "cell_type": "code",
      "source": [
        "# works with cv in scikit-learn ,along with HPO utilities like GridSearchCV\n",
        "kfold=StratifiedGroupKFold(shuffle=False)\n",
        "cross_val_score(ranker,df,y,cv=kfold,groups=df.qid)"
      ],
      "metadata": {
        "colab": {
          "base_uri": "https://localhost:8080/"
        },
        "id": "8pRZWqy8lLDe",
        "outputId": "f397d18e-f895-4e00-ade8-3683961dbc83"
      },
      "execution_count": 11,
      "outputs": [
        {
          "output_type": "stream",
          "name": "stderr",
          "text": [
            "/usr/local/lib/python3.10/dist-packages/xgboost/core.py:158: UserWarning: [20:16:42] WARNING: /workspace/src/common/error_msg.cc:52: Empty dataset at worker: 0\n",
            "  warnings.warn(smsg, UserWarning)\n"
          ]
        },
        {
          "output_type": "execute_result",
          "data": {
            "text/plain": [
              "array([1., 1., 1., 0., 0.])"
            ]
          },
          "metadata": {},
          "execution_count": 11
        }
      ]
    },
    {
      "cell_type": "code",
      "source": [
        "scores=ranker.predict(X)\n",
        "sorted_idx=np.argsort(scores)[::-1]\n",
        "# Sort the relevance scores from most relevant to least relevant\n",
        "scores=scores[sorted_idx]"
      ],
      "metadata": {
        "id": "UhdfcuRelmJT"
      },
      "execution_count": 12,
      "outputs": []
    },
    {
      "cell_type": "code",
      "source": [],
      "metadata": {
        "id": "b0-rweo6mAY0"
      },
      "execution_count": null,
      "outputs": []
    }
  ]
}